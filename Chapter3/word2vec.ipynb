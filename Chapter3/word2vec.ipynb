{
 "cells": [
  {
   "cell_type": "markdown",
   "metadata": {},
   "source": [
    "## Word2vec\n",
    "\n",
    "Word2vec models can be easily trained from freely available corpora on the Web. The training is straightforward when using libraries such as Gensim or the [original Google's implementation](https://github.com/tmikolov/word2vec) but may require a lot of time and computing resources. Luckily, many pre-trained models for different languages are available. The [NLPL word embeddings repository](http://vectors.nlpl.eu/repository/) contains models for different languages [[1]](#fn1). We will use the English model built on the English CoNLL17 corpus using the skipgram method, which has 4,027,169 words in the vocabulary, and 100 dimensions.\n",
    "\n",
    "The following libraries are required to run this notebook:\n",
    "\n",
    "- gensim==3.8.3\n",
    "- scikit-learn==0.23.2\n",
    "- matplotlib==3.3.2\n",
    "\n",
    "---\n",
    "<span id=\"fn1\"> [1] Fares, Murhaf; Kutuzov, Andrei; Oepen, Stephan & Velldal, Erik (2017). Word vectors, reuse, and replicability: Towards a community repository of large-text resources, In Jörg Tiedemann (ed.), Proceedings of the 21st Nordic Conference on Computational Linguistics, NoDaLiDa, 22-24 May 2017. Linköping University Electronic Press. ISBN 978-91-7685-601-7 </span>\n",
    "\n",
    "---"
   ]
  },
  {
   "cell_type": "markdown",
   "metadata": {},
   "source": [
    "Gensim uses the `KeyedVectors` structure which captures similarities of the results for methods such as Word2vec and FastText because the trained vectors have the same structure regardless of the training method. Using the `KeyedVectors` class we will load models trained with the original Google's word2vec implementation."
   ]
  },
  {
   "cell_type": "markdown",
   "metadata": {},
   "source": [
    "First of all, some inital configuration is required. We will use inline plotting of images in the png format, and we will ignore future warnings."
   ]
  },
  {
   "cell_type": "code",
   "execution_count": 1,
   "metadata": {},
   "outputs": [],
   "source": [
    "%matplotlib inline\n",
    "%config InlineBackend.figure_format = 'png'\n",
    "import warnings\n",
    "warnings.simplefilter(action='ignore', category=FutureWarning)"
   ]
  },
  {
   "cell_type": "markdown",
   "metadata": {},
   "source": [
    "Now we need to download the model and unpack the archive."
   ]
  },
  {
   "cell_type": "code",
   "execution_count": 2,
   "metadata": {},
   "outputs": [],
   "source": [
    "from urllib.request import urlopen\n",
    "# download\n",
    "data = urlopen('http://vectors.nlpl.eu/repository/20/40.zip')\n",
    "with open('data/40.zip', \"wb\") as fp:\n",
    "    fp.write(data.read())\n",
    "# unzip data\n",
    "import zipfile\n",
    "with zipfile.ZipFile('data/40.zip') as zf:\n",
    "    zf.extractall('data')"
   ]
  },
  {
   "cell_type": "markdown",
   "metadata": {},
   "source": [
    "The model can be loaded into a `KeyedVectors` instance."
   ]
  },
  {
   "cell_type": "code",
   "execution_count": 3,
   "metadata": {},
   "outputs": [],
   "source": [
    "import gensim\n",
    "w2v = gensim.models.keyedvectors.KeyedVectors.load_word2vec_format('data/model.bin', binary=True)"
   ]
  },
  {
   "cell_type": "markdown",
   "metadata": {},
   "source": [
    "With the model loaded we can get the vectors for any word in the vocabulary. However, out-of-vocabulary words are not handled automatically and the second example below demonstrates the exception returned when such a word is encountered."
   ]
  },
  {
   "cell_type": "code",
   "execution_count": 4,
   "metadata": {},
   "outputs": [
    {
     "name": "stdout",
     "output_type": "stream",
     "text": [
      "[ 0.022 -0.286 -0.204 -0.601  0.419 -0.295  0.122 -0.459  0.28   0.485\n",
      " -0.32   0.187 -0.246 -0.051 -0.308  0.499  0.365 -0.085  0.28   0.262\n",
      "  0.086  0.003  0.214 -0.808  0.074  0.125  0.072 -0.221  0.204  0.541\n",
      " -0.15   0.548  0.287  0.553 -0.663  0.276  0.064 -0.17  -0.164 -0.077\n",
      " -0.506  0.321 -0.077 -0.138  0.226  0.532  0.79   0.084  0.001 -0.204\n",
      "  0.028  0.174  0.059 -0.231 -0.009 -0.152 -0.14   0.078 -0.477 -0.419\n",
      " -0.604 -0.002 -0.339 -0.314 -0.403  0.317  0.249 -0.234  0.28  -0.023\n",
      "  0.155 -0.408  0.287 -0.034  0.28   0.137  0.43   0.32   0.129  0.017\n",
      "  0.169  0.013  0.174 -0.233 -0.145 -0.001 -0.112  0.096  0.197  0.023\n",
      "  0.051  0.137 -0.439 -0.281  0.298 -0.011 -0.542  0.551 -0.238  0.084]\n",
      "\"word '<html>' not in vocabulary\"\n"
     ]
    }
   ],
   "source": [
    "import traceback\n",
    "import numpy as np\n",
    "np.set_printoptions(precision=3, suppress=True)\n",
    "print(w2v.get_vector('dog'))\n",
    "try:\n",
    "    print(w2v.get_vector('<html>'))\n",
    "except KeyError as e:\n",
    "    print(e)\n",
    "    # use traceback.print_exc() for a detailed output"
   ]
  },
  {
   "cell_type": "markdown",
   "metadata": {},
   "source": [
    "Gensim offers several useful functions for exploiting the most interesting features of word embeddings. Let's demonstrate some of the word similarity tasks:"
   ]
  },
  {
   "cell_type": "code",
   "execution_count": 5,
   "metadata": {},
   "outputs": [
    {
     "data": {
      "text/plain": [
       "'table'"
      ]
     },
     "execution_count": 5,
     "metadata": {},
     "output_type": "execute_result"
    }
   ],
   "source": [
    "w2v.doesnt_match(['cat', 'dog', 'lion', 'snake', 'table'])"
   ]
  },
  {
   "cell_type": "code",
   "execution_count": 6,
   "metadata": {},
   "outputs": [
    {
     "data": {
      "text/plain": [
       "[('cat', 0.8616693019866943),\n",
       " ('dogs', 0.8479607105255127),\n",
       " ('eskie', 0.8324236869812012),\n",
       " ('dachsund', 0.8204894065856934),\n",
       " ('doggie', 0.8190792798995972)]"
      ]
     },
     "execution_count": 6,
     "metadata": {},
     "output_type": "execute_result"
    }
   ],
   "source": [
    "w2v.similar_by_word('dog', topn=5)"
   ]
  },
  {
   "cell_type": "markdown",
   "metadata": {},
   "source": [
    "The following snippet repeats the famous computation $\\text{king}-\\text{man}+\\text{woman}=\\text{queen}$ using Gensim's helper functions. We get the expected result as the highest ranked answer but other less relevant answers are also ranked high:"
   ]
  },
  {
   "cell_type": "code",
   "execution_count": 7,
   "metadata": {},
   "outputs": [
    {
     "data": {
      "text/plain": [
       "[('queen', 0.8596236705780029),\n",
       " ('king', 0.8447158336639404),\n",
       " ('debsirindra', 0.7552260756492615),\n",
       " ('empress', 0.7545188665390015),\n",
       " ('supayalat', 0.748792290687561)]"
      ]
     },
     "execution_count": 7,
     "metadata": {},
     "output_type": "execute_result"
    }
   ],
   "source": [
    "w2v.similar_by_vector(w2v.get_vector('king') - w2v.get_vector('man') + w2v.get_vector('woman'), topn=5)"
   ]
  },
  {
   "cell_type": "markdown",
   "metadata": {},
   "source": [
    "Finally, we will use word2vec word vectors to compute document vectors by simply summing individual word vectors and multiplying each word vector with the corresponding _idf_ value. Such approach is fast and known to work well for word embeddings ([see the work of Zhao, Lan, and Tian](https://www.aclweb.org/anthology/S15-2021.pdf)). We will work with a tiny corpus of 9 titles of scientific papers. First, we need some very basic preprocessing which includes transformation to lowercase, tokenization based on white space characters, and filtering out any tokens that are not in our word2vec model vocabulary:"
   ]
  },
  {
   "cell_type": "code",
   "execution_count": 8,
   "metadata": {},
   "outputs": [],
   "source": [
    "raw_docs = [\n",
    "'New Insights Towards Developing Recommender Systems',\n",
    "'3D Convolutional Neural Networks for Dynamic Sign Language Recognition',\n",
    "'A DDoS Detection Method for Socially Aware Networking Based on Forecasting Fusion Feature Sequence',\n",
    "'An image J plugin for the high throughput image analysis of in vitro scratch wound healing assays',\n",
    "'Interactions between functionalised silica nanoparticles and Pseudomonas fluorescens biofilm matrix',\n",
    "'A multi-parametric screening platform for photosynthetic trait characterization of microalgae and cyanobacteria under inorganic carbon limitation',\n",
    "'How schools can reopen safely during the pandemic',\n",
    "'Carbon dioxide loss from tropical soils increases on warming',\n",
    "'Horse eyeballs and bone hammers surprising lives of the Neanderthals']\n",
    "docs = [x.lower().split() for x in raw_docs]\n",
    "docs = [[token for token in token_list if token in w2v.vocab] for token_list in docs]"
   ]
  },
  {
   "cell_type": "markdown",
   "metadata": {},
   "source": [
    "We create a dictionary and compute smoothed _idf_ using formula $\\text{idf} = \\log(\\frac{N}{n_t+1})$ (smoothing is recommended to avoid division by zero). Although _idf_ vector weighting will not have much effect in our case with only 9 documents, this is recommended in a general case."
   ]
  },
  {
   "cell_type": "code",
   "execution_count": 9,
   "metadata": {},
   "outputs": [],
   "source": [
    "import numpy as np\n",
    "dic = gensim.corpora.Dictionary(docs)\n",
    "N = len(docs)\n",
    "idfs = {}\n",
    "for token in dic.token2id:\n",
    "    idfs[token] = np.log2(N / (dic.dfs[dic.token2id[token]]+1))"
   ]
  },
  {
   "cell_type": "markdown",
   "metadata": {},
   "source": [
    "We now compute document vectors by summing word vectors and weighting them using _idf_. The result is a matrix where each row is a dense document vector of the same dimension as the word2vec model (100 in our case):"
   ]
  },
  {
   "cell_type": "code",
   "execution_count": 10,
   "metadata": {},
   "outputs": [
    {
     "name": "stdout",
     "output_type": "stream",
     "text": [
      "(9, 100)\n"
     ]
    }
   ],
   "source": [
    "doc_vectors = []\n",
    "for doc in docs:\n",
    "    doc_vectors.append(np.sum([w2v.get_vector(token)*idfs[token] for token in doc], axis=0))\n",
    "doc_vectors = np.array(doc_vectors)\n",
    "print(doc_vectors.shape)"
   ]
  },
  {
   "cell_type": "markdown",
   "metadata": {},
   "source": [
    "Let us compute a similarity matrix to see which documents are similar and how much. We can use the `cosine_similarity` function from scikit-learn and `matshow` from matplotlib for a visual representation of the matrix."
   ]
  },
  {
   "cell_type": "code",
   "execution_count": 11,
   "metadata": {},
   "outputs": [
    {
     "name": "stdout",
     "output_type": "stream",
     "text": [
      "[[1.    0.759 0.839 0.708 0.553 0.703 0.64  0.578 0.57 ]\n",
      " [0.759 1.    0.831 0.775 0.61  0.69  0.53  0.473 0.545]\n",
      " [0.839 0.831 1.    0.819 0.645 0.771 0.696 0.633 0.618]\n",
      " [0.708 0.775 0.819 1.    0.757 0.844 0.687 0.693 0.693]\n",
      " [0.553 0.61  0.645 0.757 1.    0.874 0.444 0.686 0.477]\n",
      " [0.703 0.69  0.771 0.844 0.874 1.    0.598 0.817 0.612]\n",
      " [0.64  0.53  0.696 0.687 0.444 0.598 1.    0.646 0.679]\n",
      " [0.578 0.473 0.633 0.693 0.686 0.817 0.646 1.    0.632]\n",
      " [0.57  0.545 0.618 0.693 0.477 0.612 0.679 0.632 1.   ]]\n"
     ]
    },
    {
     "data": {
      "image/png": "[encoded data removed]",
      "text/plain": [
       "<Figure size 288x288 with 1 Axes>"
      ]
     },
     "metadata": {
      "needs_background": "light"
     },
     "output_type": "display_data"
    }
   ],
   "source": [
    "from sklearn import metrics\n",
    "from matplotlib import pyplot as plt\n",
    "sims = metrics.pairwise.cosine_similarity(doc_vectors)\n",
    "print(sims)\n",
    "_ = plt.matshow(sims, cmap='Reds')"
   ]
  },
  {
   "cell_type": "markdown",
   "metadata": {},
   "source": [
    "We display the least and the most similar documents:"
   ]
  },
  {
   "cell_type": "code",
   "execution_count": 12,
   "metadata": {},
   "outputs": [
    {
     "name": "stdout",
     "output_type": "stream",
     "text": [
      "Least similar:\n",
      "Interactions between functionalised silica nanoparticles and Pseudomonas fluorescens biofilm matrix\n",
      "How schools can reopen safely during the pandemic\n",
      "\n",
      "Most similar:\n",
      "Interactions between functionalised silica nanoparticles and Pseudomonas fluorescens biofilm matrix\n",
      "A multi-parametric screening platform for photosynthetic trait characterization of microalgae and cyanobacteria under inorganic carbon limitation\n"
     ]
    }
   ],
   "source": [
    "# set the diagonal (self-similarity) to NaN so it can be ignored\n",
    "np.fill_diagonal(sims, np.nan)   \n",
    "imin = np.unravel_index(np.nanargmin(sims),sims.shape)\n",
    "imax = np.unravel_index(np.nanargmax(sims),sims.shape)\n",
    "print('Least similar:\\n{}\\n{}\\n'.format(raw_docs[imin[0]], raw_docs[imin[1]]))\n",
    "print('Most similar:\\n{}\\n{}'.format(raw_docs[imax[0]], raw_docs[imax[1]]))"
   ]
  }
 ],
 "metadata": {
  "kernelspec": {
   "display_name": "Python 3",
   "language": "python",
   "name": "python3"
  },
  "language_info": {
   "codemirror_mode": {
    "name": "ipython",
    "version": 3
   },
   "file_extension": ".py",
   "mimetype": "text/x-python",
   "name": "python",
   "nbconvert_exporter": "python",
   "pygments_lexer": "ipython3",
   "version": "3.7.3"
  }
 },
 "nbformat": 4,
 "nbformat_minor": 4
}
