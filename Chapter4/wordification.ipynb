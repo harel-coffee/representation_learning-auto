{
 "cells": [
  {
   "cell_type": "markdown",
   "metadata": {},
   "source": [
    "## Wordification\n",
    "\n",
    "Wordification is a propositionalization approach that uses text mining ideas to enable transformation  of relational data into tabular form. Data instances are treated as documents while attribute values are treated as words. We use the implementation available in the `python-rdm` package, which offers utilities for loading the data from CSV files and from relational databases. The notebook demonstrates how wordification can transform a relational database into a single table which can then be modeled using traditional machine learning algorithms.\n",
    "\n",
    "The following libraries are required to run this notebook:\n",
    "\n",
    "- python-rdm==0.3.5\n",
    "- tabulate==0.8.7"
   ]
  },
  {
   "cell_type": "markdown",
   "metadata": {},
   "source": [
    "We demonstrate an example based on the Michalski’s East-West trains challenge <cite data-cite=\"michie94\"></cite>, where the task is to learn a model explaining the characteristics of trains going east (or west). The data is available in the `python-rdm` repository and we get it from there."
   ]
  },
  {
   "cell_type": "code",
   "execution_count": 1,
   "metadata": {},
   "outputs": [],
   "source": [
    "import requests\n",
    "request = requests.get('https://raw.githubusercontent.com/xflows/rdm/master/examples/data/trains/trains.csv')\n",
    "with open(\"data/trains.csv\", \"wb\") as file:\n",
    "    file.write(request.content)\n",
    "request = requests.get('https://raw.githubusercontent.com/xflows/rdm/master/examples/data/trains/cars.csv')\n",
    "with open(\"data/cars.csv\", \"wb\") as file:\n",
    "    file.write(request.content)"
   ]
  },
  {
   "cell_type": "markdown",
   "metadata": {},
   "source": [
    "The trains dataset is a relational database and consists of two tables (trains and cars) which are connected with the foreign key. In the CSV format in which the `trains` relational database is stored, the header consists of three rows. The first row declares attribute names. The second row declares attribute types in SQLite syntax (e.g., \"integer\" or \"varchar\"). The third row declares constraints such as primary and foreign keys using a simplified SQLite syntax. For example, `primary key` declares that a given column is the primary key, while `foreign key [table.column]` declares the foreign key relation between the a given column and the specified table and column (the name of the table must be he same as the name of the file containing table data). The following snippet displays the first five rows of the `trains.csv` file and the first ten rows of the `cars.csv` file. The relationship between the two tables is that the `cars.tid` is a foreign key pointing to `trains.id`."
   ]
  },
  {
   "cell_type": "code",
   "execution_count": 2,
   "metadata": {},
   "outputs": [
    {
     "name": "stdout",
     "output_type": "stream",
     "text": [
      "table \"trains\"\n"
     ]
    },
    {
     "data": {
      "text/html": [
       "<table>\n",
       "<tbody>\n",
       "<tr><td style=\"text-align: right;\">0</td><td>id         </td><td>direction</td></tr>\n",
       "<tr><td style=\"text-align: right;\">1</td><td>integer    </td><td>varchar  </td></tr>\n",
       "<tr><td style=\"text-align: right;\">2</td><td>primary key</td><td>         </td></tr>\n",
       "<tr><td style=\"text-align: right;\">3</td><td>1          </td><td>east     </td></tr>\n",
       "<tr><td style=\"text-align: right;\">4</td><td>2          </td><td>east     </td></tr>\n",
       "</tbody>\n",
       "</table>"
      ],
      "text/plain": [
       "<IPython.core.display.HTML object>"
      ]
     },
     "metadata": {},
     "output_type": "display_data"
    },
    {
     "name": "stdout",
     "output_type": "stream",
     "text": [
      "table \"cars\"\n"
     ]
    },
    {
     "data": {
      "text/html": [
       "<table>\n",
       "<tbody>\n",
       "<tr><td style=\"text-align: right;\">0</td><td>id         </td><td>tid                    </td><td>position</td><td>shape    </td><td>len    </td><td>sides     </td><td>roof   </td><td>wheels </td><td>load_shape</td><td>load_num</td></tr>\n",
       "<tr><td style=\"text-align: right;\">1</td><td>integer    </td><td>integer                </td><td>integer </td><td>varchar  </td><td>varchar</td><td>varchar   </td><td>varchar</td><td>integer</td><td>varchar   </td><td>integer </td></tr>\n",
       "<tr><td style=\"text-align: right;\">2</td><td>primary key</td><td>foreign key [trains.id]</td><td>        </td><td>         </td><td>       </td><td>          </td><td>       </td><td>       </td><td>          </td><td>        </td></tr>\n",
       "<tr><td style=\"text-align: right;\">3</td><td>1          </td><td>1                      </td><td>1       </td><td>rectangle</td><td>short  </td><td>not_double</td><td>none   </td><td>2      </td><td>circle    </td><td>1       </td></tr>\n",
       "<tr><td style=\"text-align: right;\">4</td><td>2          </td><td>1                      </td><td>2       </td><td>rectangle</td><td>long   </td><td>not_double</td><td>none   </td><td>3      </td><td>hexagon   </td><td>1       </td></tr>\n",
       "<tr><td style=\"text-align: right;\">5</td><td>3          </td><td>1                      </td><td>3       </td><td>rectangle</td><td>short  </td><td>not_double</td><td>peaked </td><td>2      </td><td>triangle  </td><td>1       </td></tr>\n",
       "<tr><td style=\"text-align: right;\">6</td><td>4          </td><td>1                      </td><td>4       </td><td>rectangle</td><td>long   </td><td>not_double</td><td>none   </td><td>2      </td><td>rectangle </td><td>3       </td></tr>\n",
       "<tr><td style=\"text-align: right;\">7</td><td>5          </td><td>2                      </td><td>1       </td><td>rectangle</td><td>short  </td><td>not_double</td><td>flat   </td><td>2      </td><td>circle    </td><td>2       </td></tr>\n",
       "<tr><td style=\"text-align: right;\">8</td><td>6          </td><td>2                      </td><td>2       </td><td>bucket   </td><td>short  </td><td>not_double</td><td>none   </td><td>2      </td><td>rectangle </td><td>1       </td></tr>\n",
       "<tr><td style=\"text-align: right;\">9</td><td>7          </td><td>2                      </td><td>3       </td><td>u_shaped </td><td>short  </td><td>not_double</td><td>none   </td><td>2      </td><td>triangle  </td><td>1       </td></tr>\n",
       "</tbody>\n",
       "</table>"
      ],
      "text/plain": [
       "<IPython.core.display.HTML object>"
      ]
     },
     "metadata": {},
     "output_type": "display_data"
    }
   ],
   "source": [
    "import csv\n",
    "from IPython.display import HTML, display\n",
    "import tabulate\n",
    "with open('data/trains.csv') as csvfile:\n",
    "    rows = [row for row in csv.reader(csvfile)]\n",
    "print('table \"trains\"')\n",
    "display(HTML(tabulate.tabulate(rows[:5], tablefmt='html', showindex=True)))\n",
    "\n",
    "with open('data/cars.csv') as csvfile:\n",
    "    rows = [row for row in csv.reader(csvfile)]\n",
    "print('table \"cars\"')\n",
    "display(HTML(tabulate.tabulate(rows[:10], tablefmt='html', showindex=True)))"
   ]
  },
  {
   "cell_type": "markdown",
   "metadata": {},
   "source": [
    "`python-rdm` package implements the `DBContext` class which simplifies reading data from relational databases.\n",
    "It can be connected to an instance of `CSVConnection` class to read relational data from CSV files in the format described above. The following code snippet establishes a CSV connection and specifies that the target table is _trains_ and the target attribute is _direction_ (east or west)."
   ]
  },
  {
   "cell_type": "code",
   "execution_count": 3,
   "metadata": {},
   "outputs": [],
   "source": [
    "from rdm.db import DBContext, CSVConnection\n",
    "connection = CSVConnection(['data/trains.csv','data/cars.csv'])\n",
    "context = DBContext(connection, target_table='trains', target_att='direction')"
   ]
  },
  {
   "cell_type": "markdown",
   "metadata": {},
   "source": [
    "Wordification implementation in `python-rdm` requires the `Table` data structure provided by the Orange data mining library. Using the provided converter, a wrapper for the wordification instance is first constructed. Then the wordification transforms relational instances into a tabular format. The parameter `word_att_length` specifies the maximal length of constructed words and thus controls the number of features returned by the transformation."
   ]
  },
  {
   "cell_type": "code",
   "execution_count": 4,
   "metadata": {},
   "outputs": [],
   "source": [
    "from rdm.db import OrangeConverter\n",
    "from rdm.wrappers import Wordification\n",
    "conv = OrangeConverter(context)\n",
    "wordificator = Wordification(conv.target_Orange_table(), conv.other_Orange_tables(), context, word_att_length=1)\n",
    "wordificator.run()"
   ]
  },
  {
   "cell_type": "markdown",
   "metadata": {},
   "source": [
    "The word (i.e. feature) weights can be computed using diferent weighting methods: binary, tf, and tf-idf. We can export the resulting dataset into the WEka's ARFF format or Orange's `Table` data structure, which can be used directly with the `scikit-learn` library. The following snippet computes the binary weights and prints out the constructed features."
   ]
  },
  {
   "cell_type": "code",
   "execution_count": 5,
   "metadata": {},
   "outputs": [
    {
     "name": "stdout",
     "output_type": "stream",
     "text": [
      "(20, 29)\n",
      "['Cars_Len_Long',\n",
      " 'Cars_Len_Short',\n",
      " 'Cars_LoadNum_0',\n",
      " 'Cars_LoadNum_1',\n",
      " 'Cars_LoadNum_2',\n",
      " 'Cars_LoadNum_3',\n",
      " 'Cars_LoadShape_Circle',\n",
      " 'Cars_LoadShape_Diamond',\n",
      " 'Cars_LoadShape_Hexagon',\n",
      " 'Cars_LoadShape_Rectangle',\n",
      " 'Cars_LoadShape_Triangle',\n",
      " 'Cars_Position_1',\n",
      " 'Cars_Position_2',\n",
      " 'Cars_Position_3',\n",
      " 'Cars_Position_4',\n",
      " 'Cars_Roof_Arc',\n",
      " 'Cars_Roof_Flat',\n",
      " 'Cars_Roof_Jagged',\n",
      " 'Cars_Roof_None',\n",
      " 'Cars_Roof_Peaked',\n",
      " 'Cars_Shape_Bucket',\n",
      " 'Cars_Shape_Ellipse',\n",
      " 'Cars_Shape_Hexagon',\n",
      " 'Cars_Shape_Rectangle',\n",
      " 'Cars_Shape_UShaped',\n",
      " 'Cars_Sides_Double',\n",
      " 'Cars_Sides_NotDouble',\n",
      " 'Cars_Wheels_2',\n",
      " 'Cars_Wheels_3']\n"
     ]
    }
   ],
   "source": [
    "from pprint import pprint\n",
    "wordificator.calculate_weights(measure='binary')\n",
    "trains_binary = wordificator.to_orange()\n",
    "print(trains_binary.X.shape)\n",
    "pprint([x.name for x in trains_binary.domain.attributes])"
   ]
  },
  {
   "cell_type": "markdown",
   "metadata": {},
   "source": [
    "This is not the only option. If we increase the `word_att_length` to 2 and weight the words using the _tf-idf_ scheme, we get a much larger number of features. The following code snippet prints the first 20 features, now composed of two _attribute-value_ terms."
   ]
  },
  {
   "cell_type": "code",
   "execution_count": 6,
   "metadata": {},
   "outputs": [
    {
     "name": "stdout",
     "output_type": "stream",
     "text": [
      "(20, 256)\n",
      "['Cars_Len_Long',\n",
      " 'Cars_Len_Long__Cars_LoadNum_0',\n",
      " 'Cars_Len_Long__Cars_LoadNum_1',\n",
      " 'Cars_Len_Long__Cars_LoadNum_2',\n",
      " 'Cars_Len_Long__Cars_LoadNum_3',\n",
      " 'Cars_Len_Long__Cars_LoadShape_Circle',\n",
      " 'Cars_Len_Long__Cars_LoadShape_Hexagon',\n",
      " 'Cars_Len_Long__Cars_LoadShape_Rectangle',\n",
      " 'Cars_Len_Long__Cars_LoadShape_Triangle',\n",
      " 'Cars_Len_Long__Cars_Position_1',\n",
      " 'Cars_Len_Long__Cars_Position_2',\n",
      " 'Cars_Len_Long__Cars_Position_3',\n",
      " 'Cars_Len_Long__Cars_Position_4',\n",
      " 'Cars_Len_Long__Cars_Roof_Flat',\n",
      " 'Cars_Len_Long__Cars_Roof_Jagged',\n",
      " 'Cars_Len_Long__Cars_Roof_None',\n",
      " 'Cars_Len_Long__Cars_Shape_Rectangle',\n",
      " 'Cars_Len_Long__Cars_Sides_NotDouble',\n",
      " 'Cars_Len_Long__Cars_Wheels_2',\n",
      " 'Cars_Len_Long__Cars_Wheels_3']\n"
     ]
    }
   ],
   "source": [
    "wordificator = Wordification(conv.target_Orange_table(), conv.other_Orange_tables(), context, word_att_length=2)\n",
    "wordificator.run()\n",
    "wordificator.calculate_weights(measure='tfidf')\n",
    "trains_tfidf = wordificator.to_orange()\n",
    "print(trains_tfidf.X.shape)\n",
    "pprint([x.name for x in trains_tfidf.domain.attributes][:20])"
   ]
  },
  {
   "cell_type": "markdown",
   "metadata": {},
   "source": [
    "Many of the created features can be eliminated because they are either constant, duplicated or contain little information about the target. The following code snippet ranks features with the ecursive feature elimination. The best 20 features are selected and used to create a dataset in the tabular format."
   ]
  },
  {
   "cell_type": "code",
   "execution_count": 7,
   "metadata": {},
   "outputs": [],
   "source": [
    "import numpy as np\n",
    "from sklearn.svm import SVC\n",
    "from sklearn.feature_selection import RFE\n",
    "estimator = SVC(kernel='linear')\n",
    "selector = RFE(estimator, n_features_to_select=20, step=1)\n",
    "selector = selector.fit(trains_tfidf.X, trains_tfidf.Y)\n",
    "X1 = trains_tfidf.X[:,selector.support_]"
   ]
  },
  {
   "cell_type": "markdown",
   "metadata": {},
   "source": [
    "The datatset is now transformed into a format suitable for most of machine learning algorithms. We demonstrate this by building and visualizing a decision tree (since we have only 10 instances we will not perform any standard evaluation). "
   ]
  },
  {
   "cell_type": "code",
   "execution_count": 10,
   "metadata": {},
   "outputs": [
    {
     "data": {
      "image/png": "[encoded data removed]",
      "text/plain": [
       "<Figure size 432x288 with 1 Axes>"
      ]
     },
     "metadata": {
      "needs_background": "light"
     },
     "output_type": "display_data"
    }
   ],
   "source": [
    "from sklearn.tree import DecisionTreeClassifier\n",
    "from sklearn.tree import plot_tree\n",
    "tree = DecisionTreeClassifier(min_samples_leaf=2)\n",
    "tree.fit(X1, trains_tfidf.Y)\n",
    "y_names = np.array([x.name for x in trains_tfidf.domain.attributes])[selector.support_]\n",
    "_=plot_tree(tree, \n",
    "            feature_names=y_names, \n",
    "            filled=True, \n",
    "            fontsize=7, \n",
    "            class_names=[trains_tfidf.domain.class_var.str_val(i) for i in [0,1]],\n",
    "            label='all')"
   ]
  }
 ],
 "metadata": {
  "kernelspec": {
   "display_name": "Python 3",
   "language": "python",
   "name": "python3"
  },
  "language_info": {
   "codemirror_mode": {
    "name": "ipython",
    "version": 3
   },
   "file_extension": ".py",
   "mimetype": "text/x-python",
   "name": "python",
   "nbconvert_exporter": "python",
   "pygments_lexer": "ipython3",
   "version": "3.7.3"
  }
 },
 "nbformat": 4,
 "nbformat_minor": 4
}
