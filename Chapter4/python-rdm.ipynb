{
 "cells": [
  {
   "cell_type": "markdown",
   "metadata": {},
   "source": [
    "## python-rdm\n",
    "\n",
    "The [python-rdm](https://pypi.org/project/python-rdm/) package is a collection of wrappers for relational data mining algorithmss that aims to make them easy accessible. The input to the algorithms can be read from a relational database (MySQL, PostgreSQL, and SQLite are supported) or from plain CSV text files (with two additional header rows). The following packages are required to run this notebook:\n",
    "\n",
    "- python-rdm==0.3.5\n",
    "\n",
    "Additionally, YAP prolog is required for this notebook. Specifically, [YAP version 6.3.3](https://github.com/vscosta/yap-6.3/archive/yap-6.3.3.zip) is known to work; other version may or may not work due to internal changes in YAP."
   ]
  },
  {
   "cell_type": "markdown",
   "metadata": {},
   "source": [
    "We demonstrate the `python-rdm` by connecting to a remote relational database, reading data, running a selected relational data mining algorithm and presenting the results. We start by importing the relevant parts of `python-rdm` and establishing a connection to a remote MySQL database where a copy of the Michalski's East-West trains challenge dataset is stored. Keep in mind that in order for this remote connection to work the port 3306 must be open as it is used by MySQL for communication."
   ]
  },
  {
   "cell_type": "code",
   "execution_count": 1,
   "metadata": {},
   "outputs": [],
   "source": [
    "from rdm.db import DBContext, DBVendor, DBConnection\n",
    "connection = DBConnection(\n",
    "    'ilp',                # User\n",
    "    'ilp123',             # Password\n",
    "    'workflow.ijs.si',    # Host\n",
    "    'trains',             # Database\n",
    "    vendor=DBVendor.MySQL # Database type\n",
    ")"
   ]
  },
  {
   "cell_type": "markdown",
   "metadata": {},
   "source": [
    "The next step is to define the learning context. The target table is _trains_ and the target attribute is _direction_."
   ]
  },
  {
   "cell_type": "code",
   "execution_count": 2,
   "metadata": {},
   "outputs": [],
   "source": [
    "context = DBContext(connection, \n",
    "                    target_table='trains',\n",
    "                    target_att='direction')"
   ]
  },
  {
   "cell_type": "markdown",
   "metadata": {},
   "source": [
    "`DBContext` reads the data, parses column types, foreign keys etc. and loads the data into the `Orange.data.Table` object, stored in memory. Attributes such as `id` are stored as meta attributes. We print out all tables, their domains and first 5 instances."
   ]
  },
  {
   "cell_type": "code",
   "execution_count": 3,
   "metadata": {},
   "outputs": [
    {
     "name": "stdout",
     "output_type": "stream",
     "text": [
      "Table: \"cars\"\n",
      "Domain: [position, shape, len, sides, roof, wheels, load_shape, load_num] {id, tid}\n",
      "[[1, rectangle, short, not_double, none, 2, circle, 1] {1, 1},\n",
      " [2, rectangle, long, not_double, none, 3, hexagon, 1] {2, 1},\n",
      " [3, rectangle, short, not_double, peaked, 2, triangle, 1] {3, 1},\n",
      " [4, rectangle, long, not_double, none, 2, rectangle, 3] {4, 1},\n",
      " [1, rectangle, short, not_double, flat, 2, circle, 2] {5, 2}]\n",
      "\n",
      "Table: \"trains\"\n",
      "Domain: [ | direction] {id}\n",
      "[[ | east] {1},\n",
      " [ | east] {2},\n",
      " [ | east] {3},\n",
      " [ | east] {4},\n",
      " [ | east] {5}]\n",
      "\n"
     ]
    }
   ],
   "source": [
    "for table in context.tables:\n",
    "    print('Table: \"{}\"'.format(table))\n",
    "    print('Domain: {}'.format(context.orng_tables[table].domain))\n",
    "    print(context.orng_tables[table][:5])\n",
    "    print('')"
   ]
  },
  {
   "cell_type": "markdown",
   "metadata": {},
   "source": [
    "We run the RSD learner. First, we create an `RSDConverter` instance which transforms the data into a form appropriate for RSD (Prolog clauses). RSD supports the following parameters which control feature construction process:\n",
    "\n",
    "- clauselength\n",
    "- depth\n",
    "- negation\n",
    "- min_coverage\n",
    "- filtering\n",
    "\n",
    "We set the maxim length of a feature body to 6, run RSD and display the first 10 induced features."
   ]
  },
  {
   "cell_type": "code",
   "execution_count": 4,
   "metadata": {},
   "outputs": [
    {
     "name": "stdout",
     "output_type": "stream",
     "text": [
      "['f(1,A):-trains_has_cars(A,B),cars_position(B,4).',\n",
      " 'f(2,A):-trains_has_cars(A,B),cars_position(B,3).',\n",
      " 'f(3,A):-trains_has_cars(A,B),cars_position(B,2),cars_shape(B,u_shaped).',\n",
      " 'f(4,A):-trains_has_cars(A,B),cars_position(B,1),cars_shape(B,rectangle).',\n",
      " 'f(5,A):-trains_has_cars(A,B),cars_position(B,4),cars_shape(B,u_shaped).',\n",
      " 'f(6,A):-trains_has_cars(A,B),cars_position(B,3),cars_shape(B,rectangle).',\n",
      " 'f(7,A):-trains_has_cars(A,B),cars_position(B,2),cars_shape(B,rectangle).',\n",
      " 'f(8,A):-trains_has_cars(A,B),cars_position(B,1),cars_shape(B,u_shaped).',\n",
      " 'f(9,A):-trains_has_cars(A,B),cars_position(B,4),cars_shape(B,rectangle).',\n",
      " 'f(10,A):-trains_has_cars(A,B),cars_position(B,1),cars_shape(B,bucket).']\n"
     ]
    }
   ],
   "source": [
    "from rdm.db.converters import RSDConverter\n",
    "from rdm.wrappers import RSD\n",
    "from pprint import pprint\n",
    "\n",
    "conv = RSDConverter(context)\n",
    "rsd = RSD()\n",
    "rsd.set('clauselength', 6)\n",
    "\n",
    "features, arff, _ = rsd.induce(conv.background_knowledge(),\n",
    "                                   examples=conv.all_examples(),\n",
    "                                   cn2sd=False)\n",
    "pprint(features.split('\\n')[:10])"
   ]
  },
  {
   "cell_type": "markdown",
   "metadata": {},
   "source": [
    "The generated ARFF file can be loaded into the `Table` structure of Orange data mining suite. `Table` is a wrapper around Numpy arrays and can be used with `scikit-learn` data mining library."
   ]
  },
  {
   "cell_type": "code",
   "execution_count": 5,
   "metadata": {},
   "outputs": [
    {
     "name": "stdout",
     "output_type": "stream",
     "text": [
      "(20, 135)\n",
      "(20,)\n",
      "[f1, f2, f3, f4, f5, f6, f7, f8, f9, f10, f11, f12, f13, f14, f15, f16, f17, f18, f19, f20, f21, f22, f23, f24, f25, f26, f27, f28, f29, f30, f31, f32, f33, f34, f35, f36, f37, f38, f39, f40, f41, f42, f43, f44, f45, f46, f47, f48, f49, f50, f51, f52, f53, f54, f55, f56, f57, f58, f59, f60, f61, f62, f63, f64, f65, f66, f67, f68, f69, f70, f71, f72, f73, f74, f75, f76, f77, f78, f79, f80, f81, f82, f83, f84, f85, f86, f87, f88, f89, f90, f91, f92, f93, f94, f95, f96, f97, f98, f99, f100, f101, f102, f103, f104, f105, f106, f107, f108, f109, f110, f111, f112, f113, f114, f115, f116, f117, f118, f119, f120, f121, f122, f123, f124, f125, f126, f127, f128, f129, f130, f131, f132, f133, f134, f135 | class]\n"
     ]
    }
   ],
   "source": [
    "from rdm.helpers import arff_to_orange_table\n",
    "table = arff_to_orange_table(arff)\n",
    "print(table.X.shape)\n",
    "print(table.Y.shape)\n",
    "print(table.domain)"
   ]
  },
  {
   "cell_type": "markdown",
   "metadata": {},
   "source": [
    "Finally, we select 20 best features and build a simple decision tree."
   ]
  },
  {
   "cell_type": "code",
   "execution_count": 6,
   "metadata": {},
   "outputs": [],
   "source": [
    "import numpy as np\n",
    "from sklearn.svm import SVC\n",
    "from sklearn.feature_selection import RFE\n",
    "\n",
    "estimator = SVC(kernel='linear')\n",
    "selector = RFE(estimator, n_features_to_select=20, step=1)\n",
    "selector = selector.fit(table.X, table.Y)\n",
    "X1 = table.X[:,selector.support_]"
   ]
  },
  {
   "cell_type": "code",
   "execution_count": 7,
   "metadata": {},
   "outputs": [
    {
     "data": {
      "image/png": "[encoded data removed]",
      "text/plain": [
       "<Figure size 432x288 with 1 Axes>"
      ]
     },
     "metadata": {
      "needs_background": "light"
     },
     "output_type": "display_data"
    }
   ],
   "source": [
    "from sklearn.tree import DecisionTreeClassifier\n",
    "from sklearn.tree import plot_tree\n",
    "tree = DecisionTreeClassifier(min_samples_leaf=2)\n",
    "tree.fit(X1, table.Y)\n",
    "y_names = np.array([x.name for x in table.domain.attributes])[selector.support_]\n",
    "_=plot_tree(tree, \n",
    "            feature_names=y_names, \n",
    "            filled=True, \n",
    "            fontsize=7, \n",
    "            class_names=[table.domain.class_var.str_val(i) for i in [0,1]],\n",
    "            label='all')"
   ]
  },
  {
   "cell_type": "markdown",
   "metadata": {},
   "source": [
    "Because feature names are very long we print the tree in textual form to improve its readability."
   ]
  },
  {
   "cell_type": "code",
   "execution_count": 8,
   "metadata": {},
   "outputs": [
    {
     "name": "stdout",
     "output_type": "stream",
     "text": [
      "|--- trains_has_cars(A,B),cars_position(B,3),cars_load_num(B,1). <= 0.50\n",
      "|   |--- trains_has_cars(A,B),cars_sides(B,double),cars_load_shape(B,circle). <= 0.50\n",
      "|   |   |--- class: 1.0\n",
      "|   |--- trains_has_cars(A,B),cars_sides(B,double),cars_load_shape(B,circle). >  0.50\n",
      "|   |   |--- trains_has_cars(A,B),cars_len(B,short),cars_load_shape(B,triangle). <= 0.50\n",
      "|   |   |   |--- class: 0.0\n",
      "|   |   |--- trains_has_cars(A,B),cars_len(B,short),cars_load_shape(B,triangle). >  0.50\n",
      "|   |   |   |--- class: 0.0\n",
      "|--- trains_has_cars(A,B),cars_position(B,3),cars_load_num(B,1). >  0.50\n",
      "|   |--- class: 1.0\n",
      "\n",
      "class 0: east\n",
      "class 1: west\n"
     ]
    }
   ],
   "source": [
    "from sklearn.tree import export_text\n",
    "names = list(np.array([x.split(':-')[1] for x in features.split('\\n') if x])[selector.support_])\n",
    "tree_rules = export_text(tree, feature_names=names)\n",
    "print(tree_rules)\n",
    "for i in [0,1]:\n",
    "    print('class {}: {}'.format(i, table.domain.class_var.str_val(i)))"
   ]
  },
  {
   "cell_type": "code",
   "execution_count": null,
   "metadata": {},
   "outputs": [],
   "source": []
  }
 ],
 "metadata": {
  "kernelspec": {
   "display_name": "Python 3",
   "language": "python",
   "name": "python3"
  },
  "language_info": {
   "codemirror_mode": {
    "name": "ipython",
    "version": 3
   },
   "file_extension": ".py",
   "mimetype": "text/x-python",
   "name": "python",
   "nbconvert_exporter": "python",
   "pygments_lexer": "ipython3",
   "version": "3.7.3"
  }
 },
 "nbformat": 4,
 "nbformat_minor": 4
}
