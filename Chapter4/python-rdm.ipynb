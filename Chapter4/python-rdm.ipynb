{
 "cells": [
  {
   "cell_type": "markdown",
   "metadata": {},
   "source": [
    "## python-rdm\n",
    "\n",
    "The [python-rdm](https://pypi.org/project/python-rdm/) package is a collection of wrappers for relational data mining algorithms that aims to make them easily accessible. The input to the algorithms can be read from a relational database (MySQL, PostgreSQL, and SQLite are supported) or from plain CSV text files (with two additional header rows). \n",
    "\n",
    "`python-rdm` implements wrappers for several algorithms which have different software requirements. Algorithms such as Aleph and RSD require Prolog while algorithms such as TreeLiker and Caraf require Java. \n",
    "\n",
    "- In the first part of this notebook we demonstrate TreeLiker. This requires JRE (Java runtime environment) which is already available by default on most systems. If you do not have Java installed, please download it from the [official download page](https://www.java.com/en/download/). \n",
    "- In the [second part](#second_part) of this notebook we demonstrate RSD, which requires YAP prolog."
   ]
  },
  {
   "cell_type": "markdown",
   "metadata": {},
   "source": [
    "First of all, we need to ensure that all the required libraries are available. The `-q` parameter is used to suppress long installation reports produced by `pip`."
   ]
  },
  {
   "cell_type": "code",
   "execution_count": 1,
   "metadata": {},
   "outputs": [],
   "source": [
    "!pip -q install python-rdm==0.3.6"
   ]
  },
  {
   "cell_type": "markdown",
   "metadata": {},
   "source": [
    "Next, we check if `java` command can be invoked and stop the execution otherwise."
   ]
  },
  {
   "cell_type": "code",
   "execution_count": 2,
   "metadata": {},
   "outputs": [
    {
     "name": "stdout",
     "output_type": "stream",
     "text": [
      "java version \"12.0.2\" 2019-07-16\n",
      "Java(TM) SE Runtime Environment (build 12.0.2+10)\n",
      "Java HotSpot(TM) 64-Bit Server VM (build 12.0.2+10, mixed mode, sharing)\n",
      "\n"
     ]
    }
   ],
   "source": [
    "import subprocess as sp\n",
    "\n",
    "class StopExecution(Exception):\n",
    "    def _render_traceback_(self):\n",
    "        pass\n",
    "\n",
    "try:\n",
    "    proc = sp.run(['java', '-version'], stdout=sp.PIPE, stderr=sp.STDOUT)\n",
    "    print(proc.stdout.decode('utf-8'))\n",
    "except:\n",
    "    print('ERROR: Java is not installed or not in PATH. Please download it from https://www.java.com/en/download/')\n",
    "    raise StopExecution"
   ]
  },
  {
   "cell_type": "markdown",
   "metadata": {},
   "source": [
    "We demonstrate the `python-rdm` by connecting to a remote relational database, reading data, running a selected relational data mining algorithm and presenting the results. We start by importing the relevant parts of `python-rdm` and establishing a connection to a remote MySQL database where a copy of the Michalski's East-West trains challenge dataset is stored. Keep in mind that in order for this remote connection to work the port 3306 must be open as it is used by MySQL for communication."
   ]
  },
  {
   "cell_type": "code",
   "execution_count": 3,
   "metadata": {},
   "outputs": [],
   "source": [
    "from rdm.db import DBContext, DBVendor, DBConnection\n",
    "connection = DBConnection(\n",
    "    'guest',                  # User\n",
    "    'relational',             # Password\n",
    "    'relational.fit.cvut.cz', # Host\n",
    "    'trains',                 # Database\n",
    "    vendor=DBVendor.MySQL     # Database type\n",
    ")"
   ]
  },
  {
   "cell_type": "markdown",
   "metadata": {},
   "source": [
    "The next step is to define the learning context. The target table is _trains_ and the target attribute is _direction_."
   ]
  },
  {
   "cell_type": "code",
   "execution_count": 5,
   "metadata": {},
   "outputs": [],
   "source": [
    "context = DBContext(connection, \n",
    "                    target_table='trains',\n",
    "                    target_att='direction')"
   ]
  },
  {
   "cell_type": "markdown",
   "metadata": {},
   "source": [
    "`DBContext` reads the data, parses column types, foreign keys etc. and loads the data into the `Orange.data.Table` object, stored in memory. Attributes such as `id` are stored as meta attributes. We print out all tables, their domains and first 5 instances."
   ]
  },
  {
   "cell_type": "code",
   "execution_count": 6,
   "metadata": {},
   "outputs": [
    {
     "name": "stdout",
     "output_type": "stream",
     "text": [
      "Table: \"cars\"\n",
      "Domain: [position, shape, len, sides, roof, wheels, load_shape, load_num] {id, tid}\n",
      "[[1, rectangle, short, not_double, none, 2, circle, 1] {1, 1},\n",
      " [2, rectangle, long, not_double, none, 3, hexagon, 1] {2, 1},\n",
      " [3, rectangle, short, not_double, peaked, 2, triangle, 1] {3, 1},\n",
      " [4, rectangle, long, not_double, none, 2, rectangle, 3] {4, 1},\n",
      " [1, rectangle, short, not_double, flat, 2, circle, 2] {5, 2}]\n",
      "\n",
      "Table: \"trains\"\n",
      "Domain: [ | direction] {id}\n",
      "[[ | east] {1},\n",
      " [ | east] {2},\n",
      " [ | east] {3},\n",
      " [ | east] {4},\n",
      " [ | east] {5}]\n",
      "\n"
     ]
    }
   ],
   "source": [
    "for table in context.tables:\n",
    "    print('Table: \"{}\"'.format(table))\n",
    "    print('Domain: {}'.format(context.orng_tables[table].domain))\n",
    "    print(context.orng_tables[table][:5])\n",
    "    print('')"
   ]
  },
  {
   "cell_type": "markdown",
   "metadata": {},
   "source": [
    "We can now run the TreeLiker software. TreeLiker is a collection of fast algorithms for working with complex structured data in relational form. It contains implementations of three algorithms: RelF [[1]](#fn1), Poly [[2]](#fn1), and HiFi [[3]](#fn3). \n",
    "\n",
    "First, we create a TreeLikerConverter which transforms the data into a form appropriate for TreeLiker. Then, the selected algorithm is prepared to be run by providing a dataset and the default template. TreeLiker requires templates which provide means for syntactically constraining the sets of possible features (see the [manual](http://ida.felk.cvut.cz/treeliker/download/treeliker.pdf)). The TreeLiker wrapper in `python-rdm` provides a default template wrapper in order to minimize user burden. The following snippet creates the converter, the TreeLiker wrapper and shows the default template and the input data (facts) for the first data instance."
   ]
  },
  {
   "cell_type": "code",
   "execution_count": 7,
   "metadata": {},
   "outputs": [
    {
     "name": "stdout",
     "output_type": "stream",
     "text": [
      "Feature template\n",
      "('[has_cars(-cars), has_position(+cars, #position), has_shape(+cars, #shape), '\n",
      " 'has_len(+cars, #len), has_sides(+cars, #sides), has_roof(+cars, #roof), '\n",
      " 'has_wheels(+cars, #wheels), has_load_shape(+cars, #load_shape), '\n",
      " 'has_load_num(+cars, #load_num)]')\n",
      "Data instance 0\n",
      "(\"east has_cars(cars1), has_position(cars1, '1'), has_shape(cars1, \"\n",
      " \"'rectangle'), has_len(cars1, 'short'), has_sides(cars1, 'not_double'), \"\n",
      " \"has_roof(cars1, 'none'), has_wheels(cars1, '2'), has_load_shape(cars1, \"\n",
      " \"'circle'), has_load_num(cars1, '1'), has_cars(cars2), has_position(cars2, \"\n",
      " \"'2'), has_shape(cars2, 'rectangle'), has_len(cars2, 'long'), \"\n",
      " \"has_sides(cars2, 'not_double'), has_roof(cars2, 'none'), has_wheels(cars2, \"\n",
      " \"'3'), has_load_shape(cars2, 'hexagon'), has_load_num(cars2, '1'), \"\n",
      " \"has_cars(cars3), has_position(cars3, '3'), has_shape(cars3, 'rectangle'), \"\n",
      " \"has_len(cars3, 'short'), has_sides(cars3, 'not_double'), has_roof(cars3, \"\n",
      " \"'peaked'), has_wheels(cars3, '2'), has_load_shape(cars3, 'triangle'), \"\n",
      " \"has_load_num(cars3, '1'), has_cars(cars4), has_position(cars4, '4'), \"\n",
      " \"has_shape(cars4, 'rectangle'), has_len(cars4, 'long'), has_sides(cars4, \"\n",
      " \"'not_double'), has_roof(cars4, 'none'), has_wheels(cars4, '2'), \"\n",
      " \"has_load_shape(cars4, 'rectangle'), has_load_num(cars4, '3')\")\n"
     ]
    }
   ],
   "source": [
    "from rdm.db.converters import TreeLikerConverter\n",
    "from rdm.wrappers import TreeLiker\n",
    "from pprint import pprint\n",
    "\n",
    "conv = TreeLikerConverter(context)\n",
    "treeliker = TreeLiker(conv.dataset(), conv.default_template())\n",
    "print('Feature template')\n",
    "pprint(format(treeliker.template))\n",
    "print('Data instance 0')\n",
    "pprint(conv.dataset().split('\\n')[0])"
   ]
  },
  {
   "cell_type": "markdown",
   "metadata": {},
   "source": [
    "We run TreeLiker to obtain the data in ARFF format which can be loaded into the `Table` data structure of the Orange data mining suite (`Table` is a wrapper around Numpy arrays and can be used with `scikit-learn` data mining library). We print the shape of the data and the first 20 features."
   ]
  },
  {
   "cell_type": "code",
   "execution_count": 8,
   "metadata": {},
   "outputs": [
    {
     "name": "stdout",
     "output_type": "stream",
     "text": [
      "(20, 175)\n",
      "(20,)\n",
      "has_cars(A), has_len(A, \\'long\\')\n",
      "has_cars(A), has_len(A, \\'long\\'), has_load_num(A, \\'1\\')\n",
      "has_cars(A), has_len(A, \\'long\\'), has_load_num(A, \\'1\\'), has_position(A, \\'1\\')\n",
      "has_cars(A), has_len(A, \\'long\\'), has_load_num(A, \\'1\\'), has_position(A, \\'2\\')\n",
      "has_cars(A), has_len(A, \\'long\\'), has_load_shape(A, \\'circle\\')\n",
      "has_cars(A), has_len(A, \\'long\\'), has_position(A, \\'1\\')\n",
      "has_cars(A), has_len(A, \\'long\\'), has_position(A, \\'2\\')\n",
      "has_cars(A), has_len(A, \\'long\\'), has_roof(A, \\'flat\\')\n",
      "has_cars(A), has_len(A, \\'long\\'), has_roof(A, \\'flat\\'), has_position(A, \\'2\\')\n",
      "has_cars(A), has_len(A, \\'long\\'), has_roof(A, \\'none\\')\n",
      "has_cars(A), has_len(A, \\'long\\'), has_roof(A, \\'none\\'), has_position(A, \\'1\\')\n",
      "has_cars(A), has_len(A, \\'long\\'), has_wheels(A, \\'2\\')\n",
      "has_cars(A), has_len(A, \\'long\\'), has_wheels(A, \\'2\\'), has_load_num(A, \\'1\\')\n",
      "has_cars(A), has_len(A, \\'long\\'), has_wheels(A, \\'2\\'), has_position(A, \\'1\\')\n",
      "has_cars(A), has_len(A, \\'long\\'), has_wheels(A, \\'2\\'), has_roof(A, \\'none\\')\n",
      "has_cars(A), has_len(A, \\'short\\')\n",
      "has_cars(A), has_len(A, \\'short\\'), has_load_shape(A, \\'circle\\'), has_position(A, \\'2\\')\n",
      "has_cars(A), has_len(A, \\'short\\'), has_load_shape(A, \\'rectangle\\')\n",
      "has_cars(A), has_len(A, \\'short\\'), has_load_shape(A, \\'rectangle\\'), has_position(A, \\'2\\')\n",
      "has_cars(A), has_len(A, \\'short\\'), has_load_shape(A, \\'rectangle\\'), has_shape(A, \\'rectangle\\')\n"
     ]
    }
   ],
   "source": [
    "from rdm.helpers import arff_to_orange_table\n",
    "\n",
    "treeliker_arff, _ = treeliker.run()\n",
    "table = arff_to_orange_table(treeliker_arff)\n",
    "print(table.X.shape)\n",
    "print(table.Y.shape)\n",
    "for attr in table.domain[:20]:\n",
    "    print(attr.name)"
   ]
  },
  {
   "cell_type": "markdown",
   "metadata": {},
   "source": [
    "Finally, we select 20 best features and build and visualize a simple decision tree. The Recursive-Filter Elimination (RFE) method is used with a linear SVM as the estimator. Because this example is only a demonstration of `python-rdm` no evaluation is performed."
   ]
  },
  {
   "cell_type": "code",
   "execution_count": 9,
   "metadata": {},
   "outputs": [],
   "source": [
    "import numpy as np\n",
    "from sklearn.svm import SVC\n",
    "from sklearn.feature_selection import RFE\n",
    "\n",
    "estimator = SVC(kernel='linear')\n",
    "selector = RFE(estimator, n_features_to_select=20, step=1)\n",
    "selector = selector.fit(table.X, table.Y)\n",
    "X1 = table.X[:,selector.support_]"
   ]
  },
  {
   "cell_type": "code",
   "execution_count": 10,
   "metadata": {},
   "outputs": [
    {
     "data": {
      "image/png": "[encoded data removed]",
      "text/plain": [
       "<Figure size 432x288 with 1 Axes>"
      ]
     },
     "metadata": {
      "needs_background": "light"
     },
     "output_type": "display_data"
    }
   ],
   "source": [
    "from sklearn.tree import DecisionTreeClassifier\n",
    "from sklearn.tree import plot_tree\n",
    "tree = DecisionTreeClassifier(min_samples_leaf=2)\n",
    "tree.fit(X1, table.Y)\n",
    "y_names = np.array([x.name for x in table.domain.attributes])[selector.support_]\n",
    "_=plot_tree(tree, \n",
    "            #feature_names=y_names, # long names will mess up the picture!\n",
    "            filled=True, \n",
    "            fontsize=7, \n",
    "            class_names=[table.domain.class_var.str_val(i) for i in [0,1]],\n",
    "            label='all')"
   ]
  },
  {
   "cell_type": "markdown",
   "metadata": {},
   "source": [
    "Feature names are very long so we need to print the tree in textual form to get the complete information."
   ]
  },
  {
   "cell_type": "code",
   "execution_count": 11,
   "metadata": {},
   "outputs": [
    {
     "name": "stdout",
     "output_type": "stream",
     "text": [
      "|--- has_cars(A), has_position(A, \\'3\\'), has_load_num(A, \\'1\\') <= 0.50\n",
      "|   |--- has_cars(A), has_sides(A, \\'double\\'), has_load_shape(A, \\'circle\\') <= 0.50\n",
      "|   |   |--- class: 1.0\n",
      "|   |--- has_cars(A), has_sides(A, \\'double\\'), has_load_shape(A, \\'circle\\') >  0.50\n",
      "|   |   |--- has_cars(A), has_load_shape(A, \\'triangle\\'), has_load_num(A, \\'1\\') <= 0.50\n",
      "|   |   |   |--- class: 0.0\n",
      "|   |   |--- has_cars(A), has_load_shape(A, \\'triangle\\'), has_load_num(A, \\'1\\') >  0.50\n",
      "|   |   |   |--- class: 0.0\n",
      "|--- has_cars(A), has_position(A, \\'3\\'), has_load_num(A, \\'1\\') >  0.50\n",
      "|   |--- class: 1.0\n",
      "\n",
      "class 0: east\n",
      "class 1: west\n"
     ]
    }
   ],
   "source": [
    "from sklearn.tree import export_text\n",
    "names = list(np.array([x.name for x in table.domain.attributes])[selector.support_])\n",
    "tree_rules = export_text(tree, feature_names=names)\n",
    "print(tree_rules)\n",
    "for i,val in enumerate(table.domain.class_var.values):\n",
    "    print('class {}: {}'.format(i, val))"
   ]
  },
  {
   "cell_type": "markdown",
   "metadata": {},
   "source": [
    "---"
   ]
  },
  {
   "cell_type": "markdown",
   "metadata": {},
   "source": [
    "<a id='second_part'></a>\n",
    "### RSD \n",
    "\n",
    "\n",
    "In this part of the notebook we demonstrate the RSD algorithm [[4]](#fn4). As many other relational data mining algorithms RSD requires Prolog. Specifically, [YAP Prolog version 6.3.3](https://github.com/xflows/rdm/blob/master/yap-6.3.3/yap-6.3.3.zip) is known to work; other version may or may not work due to internal changes in YAP. Please consult the official [installation instructions of YAP 6.3.3](https://github.com/vscosta/yap-6.3/tree/yap-6.3.3) about how to install YAP on your system. Compilers such as gcc and lcc on Linux, cc on Solaris and Visual C++ 6.0 on Windows are known to compile YAP."
   ]
  },
  {
   "cell_type": "markdown",
   "metadata": {},
   "source": [
    "First of all, we check whether the `yap` executable is available."
   ]
  },
  {
   "cell_type": "code",
   "execution_count": 12,
   "metadata": {},
   "outputs": [
    {
     "name": "stdout",
     "output_type": "stream",
     "text": [
      "\n",
      "[ Valid switches for command line arguments: ]\n",
      "  -?   Shows this screen\n",
      "  -b   Boot file \n",
      "  -dump-runtime-variables\n",
      "  -f   initialization file or \"none\"\n",
      "  -g   Run Goal Before Top-Level \n",
      "  -z   Run Goal Before Top-Level \n",
      "  -q   start with informational messages off\n",
      "  -l   load Prolog file\n",
      "  -L   run Prolog file and exit\n",
      "  -p   extra path for file-search-path\n",
      "  -hSize   Heap area in Kbytes (default: 8000, minimum: 8000)\n",
      "  -sSize   Stack area in Kbytes (default: 2400, minimum: 2400)\n",
      "  -tSize   Trail area in Kbytes (default: 384, minimum: 384)\n",
      "  -GSize  Max Area for Global Stack\n",
      "  -LSize   Max Area for Local Stack (number must follow L)\n",
      "  -TSize   Max Area for Trail (number must follow L)\n",
      "  -nosignals   disable signal handling from Prolog\n",
      "\n",
      "[Execution Modes]\n",
      "  -J0  Interpreted mode (default)\n",
      "  -J1  Mixed mode only for user predicates\n",
      "  -J2  Mixed mode for all predicates\n",
      "  -J3  Compile all user predicates\n",
      "  -J4  Compile all predicates\n",
      "  -ts  Maximum table space area in Mbytes (default: unlimited)\n",
      "\n",
      "\n"
     ]
    }
   ],
   "source": [
    "try:\n",
    "    proc = sp.run(['yap', '-?'], stdout=sp.PIPE, stderr=sp.STDOUT)\n",
    "    print(proc.stdout.decode('utf-8'))\n",
    "except:\n",
    "    print('ERROR: YAP Prolog is not installed or not in PATH. Please download and install it from https://github.com/xflows/rdm/blob/master/yap-6.3.3/yap-6.3.3.zip')\n",
    "    raise StopExecution"
   ]
  },
  {
   "cell_type": "markdown",
   "metadata": {},
   "source": [
    "To demonstrate RSD we use the Mutagenesis dataset which consists of 230 molecules trialed for mutagenicity on Salmonella typhimurium. There are three tables: `atom`, `bond` and `molecule`. The data is read from a remote MySQL database."
   ]
  },
  {
   "cell_type": "code",
   "execution_count": 13,
   "metadata": {},
   "outputs": [],
   "source": [
    "from rdm.db import DBContext, DBVendor, DBConnection\n",
    "connection = DBConnection(\n",
    "    'guest',                  # User\n",
    "    'relational',             # Password\n",
    "    'relational.fit.cvut.cz', # Host\n",
    "    'mutagenesis',            # Database\n",
    "    vendor=DBVendor.MySQL     # Database type\n",
    ")\n",
    "context = DBContext(connection, \n",
    "                    target_table='molecule',\n",
    "                    target_att='mutagenic')"
   ]
  },
  {
   "cell_type": "markdown",
   "metadata": {},
   "source": [
    "In order to use RSD on the mutagenesis data we have to discretize continuous attributes to prevent RSD from using single values. We employ equal frequency discretization into 3 intervals which is available in the Orange data mining suite."
   ]
  },
  {
   "cell_type": "code",
   "execution_count": 15,
   "metadata": {},
   "outputs": [
    {
     "data": {
      "text/plain": [
       "defaultdict(dict,\n",
       "            {'molecule': {'logp': [2.7, 4.25], 'lumo': [-1.9035, -1.4455]},\n",
       "             'atom': {'charge': [-0.1155, 0.1205]}})"
      ]
     },
     "execution_count": 15,
     "metadata": {},
     "output_type": "execute_result"
    }
   ],
   "source": [
    "import Orange\n",
    "from collections import defaultdict\n",
    "from rdm.db.converters import OrangeConverter\n",
    "\n",
    "conv = OrangeConverter(context)\n",
    "disc = Orange.preprocess.Discretize()\n",
    "disc.method = Orange.preprocess.discretize.EqualFreq(n=3)\n",
    "\n",
    "target_d = disc(conv.target_Orange_table())\n",
    "other_d = []\n",
    "for table in conv.other_Orange_tables():\n",
    "    other_d.append(disc(table))\n",
    "\n",
    "discretization_intervals = defaultdict(dict)\n",
    "for table in [target_d] + other_d:\n",
    "    for attr in table.domain.attributes:\n",
    "        if attr.compute_value is not None:\n",
    "            discretization_intervals[table.name][attr.name] = attr.compute_value.points\n",
    "discretization_intervals"
   ]
  },
  {
   "cell_type": "markdown",
   "metadata": {},
   "source": [
    "Let's run the RSD learner. First, we create an `RSDConverter` instance which transforms the data into a form appropriate for RSD (Prolog clauses) while taking into account the computed discretization intervals. RSD supports the following parameters which control feature construction process:\n",
    "\n",
    "- clauselength\n",
    "- depth\n",
    "- negation\n",
    "- min_coverage\n",
    "- filtering\n",
    "\n",
    "We set the maximum length of a feature body to 4, run RSD and display first 10 induced features."
   ]
  },
  {
   "cell_type": "code",
   "execution_count": 16,
   "metadata": {},
   "outputs": [
    {
     "name": "stdout",
     "output_type": "stream",
     "text": [
      "['f(1,A):-molecule_has_atom(A,B),atom_has_bond(B,C),bond_type(C,2).',\n",
      " 'f(2,A):-molecule_has_atom(A,B),atom_element(B,f).',\n",
      " 'f(3,A):-molecule_has_atom(A,B),atom_element(B,b).',\n",
      " 'f(4,A):-molecule_has_atom(A,B),atom_element(B,i).',\n",
      " 'f(5,A):-molecule_has_atom(A,B),atom_type(B,27).',\n",
      " 'f(6,A):-molecule_has_atom(A,B),atom_type(B,21).',\n",
      " 'f(7,A):-molecule_has_atom(A,B),atom_type(B,26).',\n",
      " 'f(8,A):-molecule_has_atom(A,B),atom_type(B,22).',\n",
      " 'f(9,A):-molecule_has_atom(A,B),atom_type(B,35).',\n",
      " 'f(10,A):-molecule_has_atom(A,B),atom_type(B,10).']\n"
     ]
    }
   ],
   "source": [
    "from rdm.db.converters import RSDConverter\n",
    "from rdm.wrappers import RSD\n",
    "\n",
    "conv = RSDConverter(context, discr_intervals=discretization_intervals)\n",
    "rsd = RSD()\n",
    "rsd.set('clauselength', 4)\n",
    "\n",
    "features, arff, _ = rsd.induce(conv.background_knowledge(),\n",
    "                                   examples=conv.all_examples(),\n",
    "                                   cn2sd=False)\n",
    "feature_names = [fn.strip() for fn in features.split('\\n') if fn.strip()]\n",
    "pprint(feature_names[:10])"
   ]
  },
  {
   "cell_type": "markdown",
   "metadata": {},
   "source": [
    "The resulting data in ARFF format can be loaded into `Orange.Table`. However, the ARFF produced by RSD uses short feature names like `f1`, `f2`, etc., so we need to rename the features in order to preserve information."
   ]
  },
  {
   "cell_type": "code",
   "execution_count": 17,
   "metadata": {},
   "outputs": [],
   "source": [
    "table = arff_to_orange_table(arff)\n",
    "new_classvar = table.domain.class_var.renamed('mutagenic')\n",
    "new_attributes = [var.renamed(feature_names[i]) for i,var in enumerate(table.domain.attributes)]\n",
    "new_domain = Orange.data.Domain(new_attributes, class_vars=[new_classvar])\n",
    "table = Orange.data.Table.from_table(new_domain, table)"
   ]
  },
  {
   "cell_type": "markdown",
   "metadata": {},
   "source": [
    "Using the newly constructed `Table` we split the data into train (75%) and test (25%) set and build and evaluate the decision tree."
   ]
  },
  {
   "cell_type": "code",
   "execution_count": 18,
   "metadata": {},
   "outputs": [
    {
     "name": "stdout",
     "output_type": "stream",
     "text": [
      "              precision    recall  f1-score   support\n",
      "\n",
      "          no       0.93      0.88      0.90        16\n",
      "         yes       0.94      0.97      0.95        31\n",
      "\n",
      "    accuracy                           0.94        47\n",
      "   macro avg       0.94      0.92      0.93        47\n",
      "weighted avg       0.94      0.94      0.94        47\n",
      "\n"
     ]
    }
   ],
   "source": [
    "from sklearn.tree import DecisionTreeClassifier\n",
    "from sklearn.model_selection import train_test_split\n",
    "from sklearn import metrics\n",
    "\n",
    "X_train, X_test, y_train, y_test = train_test_split(table.X, table.Y, test_size=0.25, stratify=table.Y, random_state=42)\n",
    "\n",
    "tree = DecisionTreeClassifier()\n",
    "tree.fit(X_train, y_train)\n",
    "print(metrics.classification_report(y_test, tree.predict(X_test), target_names=table.domain.class_var.values))"
   ]
  },
  {
   "cell_type": "markdown",
   "metadata": {},
   "source": [
    "Finally, let's print 5 most important features according to our decision tree."
   ]
  },
  {
   "cell_type": "code",
   "execution_count": 19,
   "metadata": {},
   "outputs": [
    {
     "name": "stdout",
     "output_type": "stream",
     "text": [
      "f(33,A):-molecule_ind1(A,0).\n",
      "f(39,A):-molecule_lumo(A,'=< -1.90').\n",
      "f(16,A):-molecule_has_atom(A,B),atom_type(B,14).\n",
      "f(41,A):-molecule_lumo(A,'> -1.45').\n",
      "f(11,A):-molecule_has_atom(A,B),atom_type(B,29).\n"
     ]
    }
   ],
   "source": [
    "for idx in (-tree.feature_importances_).argsort()[:5]:\n",
    "    print(feature_names[idx])"
   ]
  },
  {
   "cell_type": "markdown",
   "metadata": {},
   "source": [
    "---\n",
    "### References\n",
    "\n",
    "<span id=\"fn1\"> [1] Ondřej Kuželka and Filip Železný. Block-Wise Construction of Tree-like Relational Features with Monotone Reducibility and Redundancy. Machine Learning, 83, 2011. </span>\n",
    "\n",
    "<span id=\"fn2\"> [2] Ondřej Kuželka, Andrea Szabóová, Matěj Holec and Filip Železný. Gaussian Logic for Predictive Classification. ECML/PKDD 2011: European Conference on Machine Learning and Principles and Practice of Knowledge Discovery in Databases (this paper described a restricted version of Poly) </span>\n",
    "\n",
    "<span id=\"fn3\"> [3] Ondřej Kuželka and Filip Železný. HiFi: Tractable Propositionalization through Hierarchical Feature Construction. Late Breaking Papers, the 18th International Conference on Inductive Logic Programming, 2008. </span>\n",
    "\n",
    "<span id=\"fn4\"> [4] Železny F., Lavrač N.: Propositionalization-Based Relational Subgroup Discovery with RSD.\n",
    "Machine Learning 62(1-2): 33-63, 2006. </span>"
   ]
  }
 ],
 "metadata": {
  "kernelspec": {
   "display_name": "Python 3",
   "language": "python",
   "name": "python3"
  },
  "language_info": {
   "codemirror_mode": {
    "name": "ipython",
    "version": 3
   },
   "file_extension": ".py",
   "mimetype": "text/x-python",
   "name": "python",
   "nbconvert_exporter": "python",
   "pygments_lexer": "ipython3",
   "version": "3.8.6"
  }
 },
 "nbformat": 4,
 "nbformat_minor": 4
}
